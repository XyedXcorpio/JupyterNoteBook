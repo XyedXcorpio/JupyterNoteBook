{
 "cells": [
  {
   "cell_type": "markdown",
   "id": "0e450a76",
   "metadata": {},
   "source": [
    "# Data Science Tools and Ecosystem"
   ]
  },
  {
   "cell_type": "markdown",
   "id": "d9735a4f",
   "metadata": {},
   "source": [
    "In this notebook, Data Science Tools and Ecosystem are summarized."
   ]
  },
  {
   "cell_type": "markdown",
   "id": "89d698c9",
   "metadata": {},
   "source": [
    "Some of the popular languages that Data Scientists use are:\n",
    "    Python\n",
    "    R \n",
    "    SQL\n",
    "    JULIA"
   ]
  },
  {
   "cell_type": "markdown",
   "id": "9e02a0ba",
   "metadata": {},
   "source": [
    "Some of the commonly used libraries used by Data Scientists include:\n",
    "    TensorFlow\n",
    "    NumPy\n",
    "    PANDAS\n",
    "    KERAS\n",
    "    CARET\n",
    "    "
   ]
  },
  {
   "cell_type": "markdown",
   "id": "4a58d142",
   "metadata": {},
   "source": [
    "| DATA SCIENCE TOOLS|\n",
    "|------------------|\n",
    "|jUPYTER NOTEBOOK|\n",
    "|R STUDIO|\n",
    "|VS CODE|"
   ]
  },
  {
   "cell_type": "markdown",
   "id": "90a896c2",
   "metadata": {},
   "source": [
    "### Below are a few examples of evaluating arithmetic expressions in Python."
   ]
  },
  {
   "cell_type": "code",
   "execution_count": 3,
   "id": "29643545",
   "metadata": {},
   "outputs": [
    {
     "name": "stdout",
     "output_type": "stream",
     "text": [
      "17\n"
     ]
    }
   ],
   "source": [
    "#This a simple arithmetic expression to mutiply then add integers\n",
    "print((3*4)+5)"
   ]
  },
  {
   "cell_type": "code",
   "execution_count": 7,
   "id": "4540a139",
   "metadata": {},
   "outputs": [
    {
     "name": "stdout",
     "output_type": "stream",
     "text": [
      "3.3333333333333335 Hours\n"
     ]
    }
   ],
   "source": [
    "#This will convert 200 minutes to hours by diving by 60.\n",
    "print(200/60, \"Hours\")"
   ]
  },
  {
   "cell_type": "markdown",
   "id": "44840c14",
   "metadata": {},
   "source": [
    "# Objectives\n",
    "- Python \n",
    "- R Language\n",
    "- SQL"
   ]
  },
  {
   "cell_type": "markdown",
   "id": "360b58a2",
   "metadata": {},
   "source": [
    "## Author\n",
    "Syed Haider"
   ]
  },
  {
   "cell_type": "code",
   "execution_count": null,
   "id": "749fd7fe",
   "metadata": {},
   "outputs": [],
   "source": []
  }
 ],
 "metadata": {
  "celltoolbar": "Edit Metadata",
  "kernelspec": {
   "display_name": "Python 3 (ipykernel)",
   "language": "python",
   "name": "python3"
  },
  "language_info": {
   "codemirror_mode": {
    "name": "ipython",
    "version": 3
   },
   "file_extension": ".py",
   "mimetype": "text/x-python",
   "name": "python",
   "nbconvert_exporter": "python",
   "pygments_lexer": "ipython3",
   "version": "3.9.7"
  }
 },
 "nbformat": 4,
 "nbformat_minor": 5
}
